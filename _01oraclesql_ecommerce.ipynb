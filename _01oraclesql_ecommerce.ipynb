{
 "cells": [
  {
   "cell_type": "code",
   "id": "d737ab3f",
   "metadata": {
    "ExecuteTime": {
     "end_time": "2025-10-01T03:43:45.278245Z",
     "start_time": "2025-10-01T03:43:45.268874Z"
    }
   },
   "source": [
    "# %lsmagic\n",
    "%load_ext sql"
   ],
   "outputs": [
    {
     "name": "stdout",
     "output_type": "stream",
     "text": [
      "The sql extension is already loaded. To reload it, use:\n",
      "  %reload_ext sql\n"
     ]
    }
   ],
   "execution_count": 3
  },
  {
   "cell_type": "code",
   "id": "9aaf045d",
   "metadata": {
    "ExecuteTime": {
     "end_time": "2025-10-04T09:42:43.351437Z",
     "start_time": "2025-10-04T09:42:39.995048Z"
    }
   },
   "source": [
    "import oracledb\n",
    "import pandas as pd\n",
    "import matplotlib.pyplot as plt\n",
    "import seaborn as sns\n",
    "import numpy as np\n",
    "# Connect\n",
    "conn = oracledb.connect(user=\"Ecommerce\", password=\"Bhimd123\", dsn=\"localhost:1521/XEPDB1\")\n",
    "\n",
    "# List tables\n",
    "query = \"SELECT table_name FROM user_tables\"\n",
    "df_tables = pd.read_sql(query, conn)\n",
    "print(df_tables)"
   ],
   "outputs": [
    {
     "name": "stderr",
     "output_type": "stream",
     "text": [
      "C:\\Users\\bhimd\\AppData\\Local\\Temp\\ipykernel_10184\\3217224499.py:11: UserWarning: pandas only supports SQLAlchemy connectable (engine/connection) or database string URI or sqlite3 DBAPI2 connection. Other DBAPI2 objects are not tested. Please consider using SQLAlchemy.\n",
      "  df_tables = pd.read_sql(query, conn)\n"
     ]
    },
    {
     "name": "stdout",
     "output_type": "stream",
     "text": [
      "    TABLE_NAME\n",
      "0    CUSTOMERS\n",
      "1  GEOLOCATION\n",
      "2  ORDER_ITEMS\n",
      "3       ORDERS\n",
      "4     PRODUCTS\n",
      "5     PAYMENTS\n",
      "6      SELLERS\n"
     ]
    }
   ],
   "execution_count": 1
  },
  {
   "cell_type": "markdown",
   "id": "755f3b82",
   "metadata": {},
   "source": "## 1. List all unique cities where customers are located."
  },
  {
   "cell_type": "code",
   "execution_count": 2,
   "id": "d5ac9c0c",
   "metadata": {},
   "outputs": [
    {
     "name": "stderr",
     "output_type": "stream",
     "text": [
      "C:\\Users\\bhimd\\AppData\\Local\\Temp\\ipykernel_17720\\1593607165.py:2: UserWarning: pandas only supports SQLAlchemy connectable (engine/connection) or database string URI or sqlite3 DBAPI2 connection. Other DBAPI2 objects are not tested. Please consider using SQLAlchemy.\n",
      "  pd.read_sql(query, conn)\n"
     ]
    },
    {
     "data": {
      "text/html": [
       "<div>\n",
       "<style scoped>\n",
       "    .dataframe tbody tr th:only-of-type {\n",
       "        vertical-align: middle;\n",
       "    }\n",
       "\n",
       "    .dataframe tbody tr th {\n",
       "        vertical-align: top;\n",
       "    }\n",
       "\n",
       "    .dataframe thead th {\n",
       "        text-align: right;\n",
       "    }\n",
       "</style>\n",
       "<table border=\"1\" class=\"dataframe\">\n",
       "  <thead>\n",
       "    <tr style=\"text-align: right;\">\n",
       "      <th></th>\n",
       "      <th>COUNT(DISTINCTCUSTOMER_CITY)</th>\n",
       "    </tr>\n",
       "  </thead>\n",
       "  <tbody>\n",
       "    <tr>\n",
       "      <th>0</th>\n",
       "      <td>4119</td>\n",
       "    </tr>\n",
       "  </tbody>\n",
       "</table>\n",
       "</div>"
      ],
      "text/plain": [
       "   COUNT(DISTINCTCUSTOMER_CITY)\n",
       "0                          4119"
      ]
     },
     "execution_count": 2,
     "metadata": {},
     "output_type": "execute_result"
    }
   ],
   "source": [
    "query = 'SELECT count(distinct customer_city) from customers'\n",
    "pd.read_sql(query, conn)"
   ]
  },
  {
   "cell_type": "code",
   "execution_count": 11,
   "id": "3ec55565",
   "metadata": {},
   "outputs": [
    {
     "name": "stderr",
     "output_type": "stream",
     "text": [
      "C:\\Users\\bhimd\\AppData\\Local\\Temp\\ipykernel_17720\\1490486373.py:1: UserWarning: pandas only supports SQLAlchemy connectable (engine/connection) or database string URI or sqlite3 DBAPI2 connection. Other DBAPI2 objects are not tested. Please consider using SQLAlchemy.\n",
      "  pd.read_sql('SELECT distinct customer_city from customers', conn).head()\n"
     ]
    },
    {
     "data": {
      "text/html": [
       "<div>\n",
       "<style scoped>\n",
       "    .dataframe tbody tr th:only-of-type {\n",
       "        vertical-align: middle;\n",
       "    }\n",
       "\n",
       "    .dataframe tbody tr th {\n",
       "        vertical-align: top;\n",
       "    }\n",
       "\n",
       "    .dataframe thead th {\n",
       "        text-align: right;\n",
       "    }\n",
       "</style>\n",
       "<table border=\"1\" class=\"dataframe\">\n",
       "  <thead>\n",
       "    <tr style=\"text-align: right;\">\n",
       "      <th></th>\n",
       "      <th>CUSTOMER_CITY</th>\n",
       "    </tr>\n",
       "  </thead>\n",
       "  <tbody>\n",
       "    <tr>\n",
       "      <th>0</th>\n",
       "      <td>recife</td>\n",
       "    </tr>\n",
       "    <tr>\n",
       "      <th>1</th>\n",
       "      <td>manaus</td>\n",
       "    </tr>\n",
       "    <tr>\n",
       "      <th>2</th>\n",
       "      <td>diadema</td>\n",
       "    </tr>\n",
       "    <tr>\n",
       "      <th>3</th>\n",
       "      <td>varre-sai</td>\n",
       "    </tr>\n",
       "    <tr>\n",
       "      <th>4</th>\n",
       "      <td>atibaia</td>\n",
       "    </tr>\n",
       "  </tbody>\n",
       "</table>\n",
       "</div>"
      ],
      "text/plain": [
       "  CUSTOMER_CITY\n",
       "0        recife\n",
       "1        manaus\n",
       "2       diadema\n",
       "3     varre-sai\n",
       "4       atibaia"
      ]
     },
     "execution_count": 11,
     "metadata": {},
     "output_type": "execute_result"
    }
   ],
   "source": [
    "pd.read_sql('SELECT distinct customer_city from customers', conn).head()"
   ]
  },
  {
   "cell_type": "markdown",
   "id": "cea19656",
   "metadata": {},
   "source": "### 2. Count the number of orders placed in 2017."
  },
  {
   "cell_type": "code",
   "execution_count": 7,
   "id": "318d748e",
   "metadata": {},
   "outputs": [
    {
     "name": "stderr",
     "output_type": "stream",
     "text": [
      "C:\\Users\\bhimd\\AppData\\Local\\Temp\\ipykernel_17720\\2694235908.py:3: UserWarning: pandas only supports SQLAlchemy connectable (engine/connection) or database string URI or sqlite3 DBAPI2 connection. Other DBAPI2 objects are not tested. Please consider using SQLAlchemy.\n",
      "  df = pd .read_sql(query, conn)\n"
     ]
    },
    {
     "data": {
      "text/html": [
       "<div>\n",
       "<style scoped>\n",
       "    .dataframe tbody tr th:only-of-type {\n",
       "        vertical-align: middle;\n",
       "    }\n",
       "\n",
       "    .dataframe tbody tr th {\n",
       "        vertical-align: top;\n",
       "    }\n",
       "\n",
       "    .dataframe thead th {\n",
       "        text-align: right;\n",
       "    }\n",
       "</style>\n",
       "<table border=\"1\" class=\"dataframe\">\n",
       "  <thead>\n",
       "    <tr style=\"text-align: right;\">\n",
       "      <th></th>\n",
       "      <th>COUNT(ORDER_PURCHASE_TIMESTAMP)</th>\n",
       "    </tr>\n",
       "  </thead>\n",
       "  <tbody>\n",
       "    <tr>\n",
       "      <th>0</th>\n",
       "      <td>45101</td>\n",
       "    </tr>\n",
       "  </tbody>\n",
       "</table>\n",
       "</div>"
      ],
      "text/plain": [
       "   COUNT(ORDER_PURCHASE_TIMESTAMP)\n",
       "0                            45101"
      ]
     },
     "execution_count": 7,
     "metadata": {},
     "output_type": "execute_result"
    }
   ],
   "source": [
    "# pd.read_sql('select count(order_id) from orders where To_date(order_purchase_timestamp, 'YYYY')', conn)\n",
    "query = \"select count(Order_purchase_timestamp) from Orders where To_Number(To_char(Order_purchase_timestamp, 'YYYY'))=2017\"\n",
    "df = pd .read_sql(query, conn)\n",
    "df"
   ]
  },
  {
   "cell_type": "markdown",
   "id": "65cde582",
   "metadata": {},
   "source": "### 3. Find the total sales per category."
  },
  {
   "cell_type": "code",
   "id": "2b1bf325",
   "metadata": {
    "ExecuteTime": {
     "end_time": "2025-09-30T03:05:01.953425Z",
     "start_time": "2025-09-30T03:04:59.943809Z"
    }
   },
   "source": [
    "query = '''select P.PRODUCT_CATEGORY, Count(*) from ORDER_ITEMS O Inner JOIN \n",
    "products P ON P.PRODUCT_ID=O.PRODUCT_ID \n",
    "group By P.PRODUCT_CATEGORY'''\n",
    "print(pd .read_sql(query, conn))"
   ],
   "outputs": [
    {
     "name": "stderr",
     "output_type": "stream",
     "text": [
      "C:\\Users\\bhimd\\AppData\\Local\\Temp\\ipykernel_11132\\776550832.py:4: UserWarning: pandas only supports SQLAlchemy connectable (engine/connection) or database string URI or sqlite3 DBAPI2 connection. Other DBAPI2 objects are not tested. Please consider using SQLAlchemy.\n",
      "  print(pd .read_sql(query, conn))\n"
     ]
    },
    {
     "name": "stdout",
     "output_type": "stream",
     "text": [
      "                                    PRODUCT_CATEGORY  COUNT(*)\n",
      "0                               computer accessories      7827\n",
      "1                                       Garden tools      4347\n",
      "2                                     bed table bath     11115\n",
      "3   Furniture Kitchen Service Area Dinner and Garden       281\n",
      "4                    Construction Tools Construction       929\n",
      "..                                               ...       ...\n",
      "69                                    Imported books        60\n",
      "70                                              toys      4117\n",
      "71                                             audio       364\n",
      "72                            General Interest Books       553\n",
      "73                          Construction Tools Tools       103\n",
      "\n",
      "[74 rows x 2 columns]\n"
     ]
    }
   ],
   "execution_count": 2
  },
  {
   "metadata": {
    "ExecuteTime": {
     "end_time": "2025-09-30T03:12:15.538111Z",
     "start_time": "2025-09-30T03:12:15.304785Z"
    }
   },
   "cell_type": "code",
   "source": [
    "query ='''select P.PRODUCT_CATEGORY, Sum(Py.PAYMENT_VALUE) Sales from ORDER_ITEMS O Inner JOIN\n",
    "products P ON P.PRODUCT_ID=O.PRODUCT_ID  Inner Join payments py ON O.ORDER_ID=Py.ORDER_ID\n",
    "group By P.PRODUCT_CATEGORY Order By Sales Desc'''\n",
    "pd.read_sql(query, conn)"
   ],
   "id": "1948609fc07daf01",
   "outputs": [
    {
     "name": "stderr",
     "output_type": "stream",
     "text": [
      "C:\\Users\\bhimd\\AppData\\Local\\Temp\\ipykernel_11132\\4037223111.py:4: UserWarning: pandas only supports SQLAlchemy connectable (engine/connection) or database string URI or sqlite3 DBAPI2 connection. Other DBAPI2 objects are not tested. Please consider using SQLAlchemy.\n",
      "  pd.read_sql(query, conn)\n"
     ]
    },
    {
     "data": {
      "text/plain": [
       "               PRODUCT_CATEGORY       SALES\n",
       "0                bed table bath  1712553.67\n",
       "1                 HEALTH BEAUTY  1657373.12\n",
       "2          computer accessories  1585330.45\n",
       "3          Furniture Decoration  1430176.39\n",
       "4               Watches present  1429216.68\n",
       "..                          ...         ...\n",
       "69                     PC Gamer     2174.43\n",
       "70              House Comfort 2     1710.54\n",
       "71               cds music dvds     1199.43\n",
       "72  Fashion Children's Clothing      785.67\n",
       "73       insurance and services      324.51\n",
       "\n",
       "[74 rows x 2 columns]"
      ],
      "text/html": [
       "<div>\n",
       "<style scoped>\n",
       "    .dataframe tbody tr th:only-of-type {\n",
       "        vertical-align: middle;\n",
       "    }\n",
       "\n",
       "    .dataframe tbody tr th {\n",
       "        vertical-align: top;\n",
       "    }\n",
       "\n",
       "    .dataframe thead th {\n",
       "        text-align: right;\n",
       "    }\n",
       "</style>\n",
       "<table border=\"1\" class=\"dataframe\">\n",
       "  <thead>\n",
       "    <tr style=\"text-align: right;\">\n",
       "      <th></th>\n",
       "      <th>PRODUCT_CATEGORY</th>\n",
       "      <th>SALES</th>\n",
       "    </tr>\n",
       "  </thead>\n",
       "  <tbody>\n",
       "    <tr>\n",
       "      <th>0</th>\n",
       "      <td>bed table bath</td>\n",
       "      <td>1712553.67</td>\n",
       "    </tr>\n",
       "    <tr>\n",
       "      <th>1</th>\n",
       "      <td>HEALTH BEAUTY</td>\n",
       "      <td>1657373.12</td>\n",
       "    </tr>\n",
       "    <tr>\n",
       "      <th>2</th>\n",
       "      <td>computer accessories</td>\n",
       "      <td>1585330.45</td>\n",
       "    </tr>\n",
       "    <tr>\n",
       "      <th>3</th>\n",
       "      <td>Furniture Decoration</td>\n",
       "      <td>1430176.39</td>\n",
       "    </tr>\n",
       "    <tr>\n",
       "      <th>4</th>\n",
       "      <td>Watches present</td>\n",
       "      <td>1429216.68</td>\n",
       "    </tr>\n",
       "    <tr>\n",
       "      <th>...</th>\n",
       "      <td>...</td>\n",
       "      <td>...</td>\n",
       "    </tr>\n",
       "    <tr>\n",
       "      <th>69</th>\n",
       "      <td>PC Gamer</td>\n",
       "      <td>2174.43</td>\n",
       "    </tr>\n",
       "    <tr>\n",
       "      <th>70</th>\n",
       "      <td>House Comfort 2</td>\n",
       "      <td>1710.54</td>\n",
       "    </tr>\n",
       "    <tr>\n",
       "      <th>71</th>\n",
       "      <td>cds music dvds</td>\n",
       "      <td>1199.43</td>\n",
       "    </tr>\n",
       "    <tr>\n",
       "      <th>72</th>\n",
       "      <td>Fashion Children's Clothing</td>\n",
       "      <td>785.67</td>\n",
       "    </tr>\n",
       "    <tr>\n",
       "      <th>73</th>\n",
       "      <td>insurance and services</td>\n",
       "      <td>324.51</td>\n",
       "    </tr>\n",
       "  </tbody>\n",
       "</table>\n",
       "<p>74 rows × 2 columns</p>\n",
       "</div>"
      ]
     },
     "execution_count": 9,
     "metadata": {},
     "output_type": "execute_result"
    }
   ],
   "execution_count": 9
  },
  {
   "metadata": {},
   "cell_type": "markdown",
   "source": "### 4. Calculate the percentage of orders that were paid in installments.",
   "id": "a618e5b2808777d3"
  },
  {
   "metadata": {
    "ExecuteTime": {
     "end_time": "2025-09-30T03:43:31.793287Z",
     "start_time": "2025-09-30T03:43:31.757191Z"
    }
   },
   "cell_type": "code",
   "source": [
    "query = \"\"\"Select count(Distinct Order_ID) Total_Orders from Payments\"\"\"\n",
    "df= pd.read_sql(query, conn)\n",
    "# Total no. of the Orders\n",
    "x=int(df.iloc[0])"
   ],
   "id": "387985606d67f511",
   "outputs": [
    {
     "name": "stderr",
     "output_type": "stream",
     "text": [
      "C:\\Users\\bhimd\\AppData\\Local\\Temp\\ipykernel_11132\\3669672583.py:2: UserWarning: pandas only supports SQLAlchemy connectable (engine/connection) or database string URI or sqlite3 DBAPI2 connection. Other DBAPI2 objects are not tested. Please consider using SQLAlchemy.\n",
      "  df= pd.read_sql(query, conn)\n",
      "C:\\Users\\bhimd\\AppData\\Local\\Temp\\ipykernel_11132\\3669672583.py:4: FutureWarning: Calling int on a single element Series is deprecated and will raise a TypeError in the future. Use int(ser.iloc[0]) instead\n",
      "  x=int(df.iloc[0])\n"
     ]
    }
   ],
   "execution_count": 35
  },
  {
   "metadata": {
    "ExecuteTime": {
     "end_time": "2025-09-30T04:13:15.931773Z",
     "start_time": "2025-09-30T04:13:15.578068Z"
    }
   },
   "cell_type": "code",
   "source": [
    "query =\"\"\"SELECT\n",
    "    ROUND(\n",
    "        (COUNT(CASE WHEN max_installments > 1 THEN 1 END) * 100.0)\n",
    "        / COUNT(*),\n",
    "        2\n",
    "    ) AS pct_orders_in_installments\n",
    "FROM (\n",
    "    SELECT order_id, MAX(payment_installments) AS max_installments\n",
    "    FROM payments\n",
    "    GROUP BY order_id\n",
    ")\"\"\"\n",
    "df= pd.read_sql(query, conn)\n",
    "df"
   ],
   "id": "ec33c33deba827ac",
   "outputs": [
    {
     "name": "stderr",
     "output_type": "stream",
     "text": [
      "C:\\Users\\bhimd\\AppData\\Local\\Temp\\ipykernel_11132\\3142847481.py:12: UserWarning: pandas only supports SQLAlchemy connectable (engine/connection) or database string URI or sqlite3 DBAPI2 connection. Other DBAPI2 objects are not tested. Please consider using SQLAlchemy.\n",
      "  df= pd.read_sql(query, conn)\n"
     ]
    },
    {
     "data": {
      "text/plain": [
       "   PCT_ORDERS_IN_INSTALLMENTS\n",
       "0                       51.46"
      ],
      "text/html": [
       "<div>\n",
       "<style scoped>\n",
       "    .dataframe tbody tr th:only-of-type {\n",
       "        vertical-align: middle;\n",
       "    }\n",
       "\n",
       "    .dataframe tbody tr th {\n",
       "        vertical-align: top;\n",
       "    }\n",
       "\n",
       "    .dataframe thead th {\n",
       "        text-align: right;\n",
       "    }\n",
       "</style>\n",
       "<table border=\"1\" class=\"dataframe\">\n",
       "  <thead>\n",
       "    <tr style=\"text-align: right;\">\n",
       "      <th></th>\n",
       "      <th>PCT_ORDERS_IN_INSTALLMENTS</th>\n",
       "    </tr>\n",
       "  </thead>\n",
       "  <tbody>\n",
       "    <tr>\n",
       "      <th>0</th>\n",
       "      <td>51.46</td>\n",
       "    </tr>\n",
       "  </tbody>\n",
       "</table>\n",
       "</div>"
      ]
     },
     "execution_count": 37,
     "metadata": {},
     "output_type": "execute_result"
    }
   ],
   "execution_count": 37
  },
  {
   "metadata": {},
   "cell_type": "markdown",
   "source": "### 5. Count the number of customers from each state.",
   "id": "3b786741280bdb35"
  },
  {
   "metadata": {
    "ExecuteTime": {
     "end_time": "2025-10-01T03:54:14.592385Z",
     "start_time": "2025-10-01T03:54:14.556375Z"
    }
   },
   "cell_type": "code",
   "source": [
    "query = '''select CUSTOMER_STATE, Count(Customer_ID) Customer_count from Customers Group By CUSTOMER_STATE Order by Customer_count desc'''\n",
    "df = pd.read_sql(query, conn)"
   ],
   "id": "b05cc4fb38879f46",
   "outputs": [
    {
     "name": "stderr",
     "output_type": "stream",
     "text": [
      "C:\\Users\\bhimd\\AppData\\Local\\Temp\\ipykernel_7232\\1649456873.py:2: UserWarning: pandas only supports SQLAlchemy connectable (engine/connection) or database string URI or sqlite3 DBAPI2 connection. Other DBAPI2 objects are not tested. Please consider using SQLAlchemy.\n",
      "  df = pd.read_sql(query, conn)\n"
     ]
    }
   ],
   "execution_count": 11
  },
  {
   "metadata": {
    "ExecuteTime": {
     "end_time": "2025-10-01T03:54:16.943216Z",
     "start_time": "2025-10-01T03:54:16.903719Z"
    }
   },
   "cell_type": "code",
   "source": "df.head()",
   "id": "3316e910555a1f1c",
   "outputs": [
    {
     "data": {
      "text/plain": [
       "  CUSTOMER_STATE  CUSTOMER_COUNT\n",
       "0             SP           41746\n",
       "1             RJ           12852\n",
       "2             MG           11635\n",
       "3             RS            5466\n",
       "4             PR            5045"
      ],
      "text/html": [
       "<div>\n",
       "<style scoped>\n",
       "    .dataframe tbody tr th:only-of-type {\n",
       "        vertical-align: middle;\n",
       "    }\n",
       "\n",
       "    .dataframe tbody tr th {\n",
       "        vertical-align: top;\n",
       "    }\n",
       "\n",
       "    .dataframe thead th {\n",
       "        text-align: right;\n",
       "    }\n",
       "</style>\n",
       "<table border=\"1\" class=\"dataframe\">\n",
       "  <thead>\n",
       "    <tr style=\"text-align: right;\">\n",
       "      <th></th>\n",
       "      <th>CUSTOMER_STATE</th>\n",
       "      <th>CUSTOMER_COUNT</th>\n",
       "    </tr>\n",
       "  </thead>\n",
       "  <tbody>\n",
       "    <tr>\n",
       "      <th>0</th>\n",
       "      <td>SP</td>\n",
       "      <td>41746</td>\n",
       "    </tr>\n",
       "    <tr>\n",
       "      <th>1</th>\n",
       "      <td>RJ</td>\n",
       "      <td>12852</td>\n",
       "    </tr>\n",
       "    <tr>\n",
       "      <th>2</th>\n",
       "      <td>MG</td>\n",
       "      <td>11635</td>\n",
       "    </tr>\n",
       "    <tr>\n",
       "      <th>3</th>\n",
       "      <td>RS</td>\n",
       "      <td>5466</td>\n",
       "    </tr>\n",
       "    <tr>\n",
       "      <th>4</th>\n",
       "      <td>PR</td>\n",
       "      <td>5045</td>\n",
       "    </tr>\n",
       "  </tbody>\n",
       "</table>\n",
       "</div>"
      ]
     },
     "execution_count": 12,
     "metadata": {},
     "output_type": "execute_result"
    }
   ],
   "execution_count": 12
  },
  {
   "metadata": {
    "ExecuteTime": {
     "end_time": "2025-10-01T03:54:22.401154Z",
     "start_time": "2025-10-01T03:54:22.152046Z"
    }
   },
   "cell_type": "code",
   "source": [
    "plt.figure(figsize = (8,3))\n",
    "plt.bar(df[\"CUSTOMER_STATE\"], df[\"CUSTOMER_COUNT\"])\n",
    "plt.xticks(rotation = 90)\n",
    "plt.xlabel(\"states\")\n",
    "plt.ylabel(\"customer_count\")\n",
    "plt.title(\"Count of Customers by States\")\n",
    "plt.show()"
   ],
   "id": "864b8cde8fdf4869",
   "outputs": [
    {
     "data": {
      "text/plain": [
       "<Figure size 800x300 with 1 Axes>"
      ],
      "image/png": "[encoded data removed]"
     },
     "metadata": {},
     "output_type": "display_data"
    }
   ],
   "execution_count": 13
  },
  {
   "metadata": {},
   "cell_type": "markdown",
   "source": "### 6. Calculate the number of orders per month in 2018.",
   "id": "cb7eb748b667be6"
  },
  {
   "metadata": {
    "ExecuteTime": {
     "end_time": "2025-10-01T06:56:53.226822Z",
     "start_time": "2025-10-01T06:56:53.090502Z"
    }
   },
   "cell_type": "code",
   "source": [
    "query = \"\"\"SELECT\n",
    "    TO_CHAR(TO_DATE(Month1, 'MM'), 'Month') AS Month_Name,\n",
    "    COUNT(ORDER_ID) AS Total_Orders\n",
    "FROM (\n",
    "    SELECT\n",
    "        TO_CHAR(ORDER_PURCHASE_TIMESTAMP, 'MM') AS Month1,\n",
    "        ORDER_ID\n",
    "    FROM ORDERS\n",
    "    WHERE TO_CHAR(ORDER_PURCHASE_TIMESTAMP, 'YYYY') = '2018'\n",
    ")\n",
    "GROUP BY Month1\n",
    "ORDER BY Month1\"\"\"\n",
    "df = pd.read_sql(query, conn)\n",
    "df.head()"
   ],
   "id": "bbd29bf1c6af09a7",
   "outputs": [
    {
     "name": "stderr",
     "output_type": "stream",
     "text": [
      "C:\\Users\\bhimd\\AppData\\Local\\Temp\\ipykernel_7232\\3494663673.py:13: UserWarning: pandas only supports SQLAlchemy connectable (engine/connection) or database string URI or sqlite3 DBAPI2 connection. Other DBAPI2 objects are not tested. Please consider using SQLAlchemy.\n",
      "  df = pd.read_sql(query, conn)\n"
     ]
    },
    {
     "data": {
      "text/plain": [
       "  MONTH_NAME  TOTAL_ORDERS\n",
       "0  January            7269\n",
       "1  February           6728\n",
       "2  March              7211\n",
       "3  April              6939\n",
       "4  May                6873"
      ],
      "text/html": [
       "<div>\n",
       "<style scoped>\n",
       "    .dataframe tbody tr th:only-of-type {\n",
       "        vertical-align: middle;\n",
       "    }\n",
       "\n",
       "    .dataframe tbody tr th {\n",
       "        vertical-align: top;\n",
       "    }\n",
       "\n",
       "    .dataframe thead th {\n",
       "        text-align: right;\n",
       "    }\n",
       "</style>\n",
       "<table border=\"1\" class=\"dataframe\">\n",
       "  <thead>\n",
       "    <tr style=\"text-align: right;\">\n",
       "      <th></th>\n",
       "      <th>MONTH_NAME</th>\n",
       "      <th>TOTAL_ORDERS</th>\n",
       "    </tr>\n",
       "  </thead>\n",
       "  <tbody>\n",
       "    <tr>\n",
       "      <th>0</th>\n",
       "      <td>January</td>\n",
       "      <td>7269</td>\n",
       "    </tr>\n",
       "    <tr>\n",
       "      <th>1</th>\n",
       "      <td>February</td>\n",
       "      <td>6728</td>\n",
       "    </tr>\n",
       "    <tr>\n",
       "      <th>2</th>\n",
       "      <td>March</td>\n",
       "      <td>7211</td>\n",
       "    </tr>\n",
       "    <tr>\n",
       "      <th>3</th>\n",
       "      <td>April</td>\n",
       "      <td>6939</td>\n",
       "    </tr>\n",
       "    <tr>\n",
       "      <th>4</th>\n",
       "      <td>May</td>\n",
       "      <td>6873</td>\n",
       "    </tr>\n",
       "  </tbody>\n",
       "</table>\n",
       "</div>"
      ]
     },
     "execution_count": 17,
     "metadata": {},
     "output_type": "execute_result"
    }
   ],
   "execution_count": 17
  },
  {
   "metadata": {
    "ExecuteTime": {
     "end_time": "2025-10-01T06:58:48.700953Z",
     "start_time": "2025-10-01T06:58:47.565390Z"
    }
   },
   "cell_type": "code",
   "source": [
    "# o = [\"January\", \"February\",\"March\",\"April\",\"May\",\"June\",\"July\",\"August\",\"September\",\"October\"] order = o\n",
    "\n",
    "ax = sns.barplot(x = df[\"MONTH_NAME\"],y =  df[\"TOTAL_ORDERS\"], data = df, color = \"red\")\n",
    "plt.xticks(rotation = 45)\n",
    "ax.bar_label(ax.containers[0])\n",
    "plt.title(\"Count of Orders by Months is 2018\")"
   ],
   "id": "19ca2251cbfe27a3",
   "outputs": [
    {
     "data": {
      "text/plain": [
       "Text(0.5, 1.0, 'Count of Orders by Months is 2018')"
      ]
     },
     "execution_count": 18,
     "metadata": {},
     "output_type": "execute_result"
    },
    {
     "data": {
      "text/plain": [
       "<Figure size 640x480 with 1 Axes>"
      ],
      "image/png": "[encoded data removed]"
     },
     "metadata": {},
     "output_type": "display_data"
    }
   ],
   "execution_count": 18
  },
  {
   "metadata": {},
   "cell_type": "markdown",
   "source": "### 7. Find the average number of products per order, grouped by customer city.",
   "id": "8329a6686350409a"
  },
  {
   "metadata": {
    "ExecuteTime": {
     "end_time": "2025-10-01T06:17:10.889533Z",
     "start_time": "2025-10-01T06:17:10.699985Z"
    }
   },
   "cell_type": "code",
   "source": [
    "query = \"\"\"\n",
    "Select City, Round(AVG(order_item_count),2) Avg_Order from\n",
    "(SELECT\n",
    "        O.ORDER_ID,\n",
    "        C.CUSTOMER_CITY City,\n",
    "        Max(OT.ORDER_ITEM_ID) AS order_item_count\n",
    "    FROM ORDER_ITEMS OT\n",
    "    INNER JOIN ORDERS O\n",
    "        ON OT.ORDER_ID = O.ORDER_ID\n",
    "    INNER JOIN CUSTOMERS C\n",
    "        ON C.CUSTOMER_ID = O.CUSTOMER_ID\n",
    "    GROUP BY O.ORDER_ID, C.CUSTOMER_CITY Order By C.CUSTOMER_CITY Desc, order_item_count Desc) Group By City Order By Avg_Order Desc\n",
    "\"\"\"\n",
    "df = pd.read_sql(query, conn)\n",
    "df.head()"
   ],
   "id": "c0e6551ba3b598e6",
   "outputs": [
    {
     "name": "stderr",
     "output_type": "stream",
     "text": [
      "C:\\Users\\bhimd\\AppData\\Local\\Temp\\ipykernel_7232\\3471854985.py:14: UserWarning: pandas only supports SQLAlchemy connectable (engine/connection) or database string URI or sqlite3 DBAPI2 connection. Other DBAPI2 objects are not tested. Please consider using SQLAlchemy.\n",
      "  df = pd.read_sql(query, conn)\n"
     ]
    },
    {
     "data": {
      "text/plain": [
       "             CITY  AVG_ORDER\n",
       "0  padre carvalho        7.0\n",
       "1     celso ramos        6.5\n",
       "2   candido godoi        6.0\n",
       "3           datas        6.0\n",
       "4  matias olimpio        5.0"
      ],
      "text/html": [
       "<div>\n",
       "<style scoped>\n",
       "    .dataframe tbody tr th:only-of-type {\n",
       "        vertical-align: middle;\n",
       "    }\n",
       "\n",
       "    .dataframe tbody tr th {\n",
       "        vertical-align: top;\n",
       "    }\n",
       "\n",
       "    .dataframe thead th {\n",
       "        text-align: right;\n",
       "    }\n",
       "</style>\n",
       "<table border=\"1\" class=\"dataframe\">\n",
       "  <thead>\n",
       "    <tr style=\"text-align: right;\">\n",
       "      <th></th>\n",
       "      <th>CITY</th>\n",
       "      <th>AVG_ORDER</th>\n",
       "    </tr>\n",
       "  </thead>\n",
       "  <tbody>\n",
       "    <tr>\n",
       "      <th>0</th>\n",
       "      <td>padre carvalho</td>\n",
       "      <td>7.0</td>\n",
       "    </tr>\n",
       "    <tr>\n",
       "      <th>1</th>\n",
       "      <td>celso ramos</td>\n",
       "      <td>6.5</td>\n",
       "    </tr>\n",
       "    <tr>\n",
       "      <th>2</th>\n",
       "      <td>candido godoi</td>\n",
       "      <td>6.0</td>\n",
       "    </tr>\n",
       "    <tr>\n",
       "      <th>3</th>\n",
       "      <td>datas</td>\n",
       "      <td>6.0</td>\n",
       "    </tr>\n",
       "    <tr>\n",
       "      <th>4</th>\n",
       "      <td>matias olimpio</td>\n",
       "      <td>5.0</td>\n",
       "    </tr>\n",
       "  </tbody>\n",
       "</table>\n",
       "</div>"
      ]
     },
     "execution_count": 16,
     "metadata": {},
     "output_type": "execute_result"
    }
   ],
   "execution_count": 16
  },
  {
   "metadata": {},
   "cell_type": "markdown",
   "source": "### 8.Calculate the percentage of total revenue contributed by each product category.",
   "id": "109abea55c034765"
  },
  {
   "metadata": {
    "ExecuteTime": {
     "end_time": "2025-10-01T13:32:10.533328Z",
     "start_time": "2025-10-01T13:32:10.290830Z"
    }
   },
   "cell_type": "code",
   "source": [
    "query = \"\"\"Select PRODUCT_CATEGORY, Round(sum_price/sum(sum_price) over ()*100, 2) Percentage_revenue from(\n",
    "select P.PRODUCT_CATEGORY , sum(OT.PRICE) sum_price  from ORDER_ITEMS OT Inner Join PRODUCTS P ON OT.PRODUCT_ID=P.PRODUCT_ID\n",
    "Group By P.PRODUCT_CATEGORY Order By P.PRODUCT_CATEGORY)\"\"\"\n",
    "\n",
    "pd.read_sql(query, conn).head()"
   ],
   "id": "64be780ab839c008",
   "outputs": [
    {
     "name": "stderr",
     "output_type": "stream",
     "text": [
      "C:\\Users\\bhimd\\AppData\\Local\\Temp\\ipykernel_5892\\3143037092.py:5: UserWarning: pandas only supports SQLAlchemy connectable (engine/connection) or database string URI or sqlite3 DBAPI2 connection. Other DBAPI2 objects are not tested. Please consider using SQLAlchemy.\n",
      "  pd.read_sql(query, conn).head()\n"
     ]
    },
    {
     "data": {
      "text/plain": [
       "            PRODUCT_CATEGORY  PERCENTAGE_REVENUE\n",
       "0  Agro Industria e Comercio                0.53\n",
       "1                        Art                0.18\n",
       "2            Arts and Crafts                0.01\n",
       "3           Bags Accessories                1.03\n",
       "4               Blu Ray DVDs                0.04"
      ],
      "text/html": [
       "<div>\n",
       "<style scoped>\n",
       "    .dataframe tbody tr th:only-of-type {\n",
       "        vertical-align: middle;\n",
       "    }\n",
       "\n",
       "    .dataframe tbody tr th {\n",
       "        vertical-align: top;\n",
       "    }\n",
       "\n",
       "    .dataframe thead th {\n",
       "        text-align: right;\n",
       "    }\n",
       "</style>\n",
       "<table border=\"1\" class=\"dataframe\">\n",
       "  <thead>\n",
       "    <tr style=\"text-align: right;\">\n",
       "      <th></th>\n",
       "      <th>PRODUCT_CATEGORY</th>\n",
       "      <th>PERCENTAGE_REVENUE</th>\n",
       "    </tr>\n",
       "  </thead>\n",
       "  <tbody>\n",
       "    <tr>\n",
       "      <th>0</th>\n",
       "      <td>Agro Industria e Comercio</td>\n",
       "      <td>0.53</td>\n",
       "    </tr>\n",
       "    <tr>\n",
       "      <th>1</th>\n",
       "      <td>Art</td>\n",
       "      <td>0.18</td>\n",
       "    </tr>\n",
       "    <tr>\n",
       "      <th>2</th>\n",
       "      <td>Arts and Crafts</td>\n",
       "      <td>0.01</td>\n",
       "    </tr>\n",
       "    <tr>\n",
       "      <th>3</th>\n",
       "      <td>Bags Accessories</td>\n",
       "      <td>1.03</td>\n",
       "    </tr>\n",
       "    <tr>\n",
       "      <th>4</th>\n",
       "      <td>Blu Ray DVDs</td>\n",
       "      <td>0.04</td>\n",
       "    </tr>\n",
       "  </tbody>\n",
       "</table>\n",
       "</div>"
      ]
     },
     "execution_count": 3,
     "metadata": {},
     "output_type": "execute_result"
    }
   ],
   "execution_count": 3
  },
  {
   "metadata": {},
   "cell_type": "markdown",
   "source": "### 9. Identify the correlation between product price and the number of times a product has been purchased.",
   "id": "1eb7565a6a28bb48"
  },
  {
   "metadata": {
    "ExecuteTime": {
     "end_time": "2025-10-01T14:10:59.671657Z",
     "start_time": "2025-10-01T14:10:58.962063Z"
    }
   },
   "cell_type": "code",
   "source": [
    "query='''select PRODUCT_CATEGORY, Round(Avg(Price), 2) Price1, Count(OT.Product_id) Product_count from ORDER_ITEMS OT Inner Join products P ON P.PRODUCT_ID=OT.PRODUCT_ID Group By PRODUCT_CATEGORY Order By Price1'''\n",
    "df = pd.read_sql(query, conn)\n",
    "df.head()"
   ],
   "id": "8816aa5d344b7638",
   "outputs": [
    {
     "name": "stderr",
     "output_type": "stream",
     "text": [
      "C:\\Users\\bhimd\\AppData\\Local\\Temp\\ipykernel_5892\\2916174905.py:2: UserWarning: pandas only supports SQLAlchemy connectable (engine/connection) or database string URI or sqlite3 DBAPI2 connection. Other DBAPI2 objects are not tested. Please consider using SQLAlchemy.\n",
      "  df = pd.read_sql(query, conn)\n"
     ]
    },
    {
     "data": {
      "text/plain": [
       "  PRODUCT_CATEGORY  PRICE1  PRODUCT_COUNT\n",
       "0  House Comfort 2   25.34             30\n",
       "1          flowers   33.64             33\n",
       "2  Hygiene diapers   40.19             39\n",
       "3   cds music dvds   52.14             14\n",
       "4      Drink foods   54.60            278"
      ],
      "text/html": [
       "<div>\n",
       "<style scoped>\n",
       "    .dataframe tbody tr th:only-of-type {\n",
       "        vertical-align: middle;\n",
       "    }\n",
       "\n",
       "    .dataframe tbody tr th {\n",
       "        vertical-align: top;\n",
       "    }\n",
       "\n",
       "    .dataframe thead th {\n",
       "        text-align: right;\n",
       "    }\n",
       "</style>\n",
       "<table border=\"1\" class=\"dataframe\">\n",
       "  <thead>\n",
       "    <tr style=\"text-align: right;\">\n",
       "      <th></th>\n",
       "      <th>PRODUCT_CATEGORY</th>\n",
       "      <th>PRICE1</th>\n",
       "      <th>PRODUCT_COUNT</th>\n",
       "    </tr>\n",
       "  </thead>\n",
       "  <tbody>\n",
       "    <tr>\n",
       "      <th>0</th>\n",
       "      <td>House Comfort 2</td>\n",
       "      <td>25.34</td>\n",
       "      <td>30</td>\n",
       "    </tr>\n",
       "    <tr>\n",
       "      <th>1</th>\n",
       "      <td>flowers</td>\n",
       "      <td>33.64</td>\n",
       "      <td>33</td>\n",
       "    </tr>\n",
       "    <tr>\n",
       "      <th>2</th>\n",
       "      <td>Hygiene diapers</td>\n",
       "      <td>40.19</td>\n",
       "      <td>39</td>\n",
       "    </tr>\n",
       "    <tr>\n",
       "      <th>3</th>\n",
       "      <td>cds music dvds</td>\n",
       "      <td>52.14</td>\n",
       "      <td>14</td>\n",
       "    </tr>\n",
       "    <tr>\n",
       "      <th>4</th>\n",
       "      <td>Drink foods</td>\n",
       "      <td>54.60</td>\n",
       "      <td>278</td>\n",
       "    </tr>\n",
       "  </tbody>\n",
       "</table>\n",
       "</div>"
      ]
     },
     "execution_count": 4,
     "metadata": {},
     "output_type": "execute_result"
    }
   ],
   "execution_count": 4
  },
  {
   "metadata": {
    "ExecuteTime": {
     "end_time": "2025-10-01T14:13:32.300361Z",
     "start_time": "2025-10-01T14:13:32.279780Z"
    }
   },
   "cell_type": "code",
   "source": [
    "a=np.corrcoef(df.PRICE1,df.PRODUCT_COUNT)\n",
    "print(\"the correlation is\", a[0][-1])"
   ],
   "id": "f862deb5488fe384",
   "outputs": [
    {
     "name": "stdout",
     "output_type": "stream",
     "text": [
      "the correlation is -0.10631625823860699\n"
     ]
    }
   ],
   "execution_count": 8
  },
  {
   "metadata": {},
   "cell_type": "markdown",
   "source": "### 10. Calculate the total revenue generated by each seller, and rank them by revenue.",
   "id": "fea2aba4bf793f41"
  },
  {
   "metadata": {
    "ExecuteTime": {
     "end_time": "2025-10-01T15:11:39.565404Z",
     "start_time": "2025-10-01T15:11:39.388404Z"
    }
   },
   "cell_type": "code",
   "source": [
    "query = \"\"\"SELECT\n",
    "    A.seller_id,\n",
    "    A.REVENUE ,\n",
    "    DENSE_RANK() OVER (ORDER BY a.REVENUE DESC) RANK\n",
    "FROM (\n",
    "    SELECT\n",
    "        oi.seller_id,\n",
    "        SUM(p.payment_value) AS REVENUE\n",
    "    FROM order_items oi\n",
    "    JOIN payments p\n",
    "        ON oi.order_id = p.order_id\n",
    "    GROUP BY oi.seller_id\n",
    ") A\"\"\"\n",
    "df = pd.read_sql(query, conn).head(10)"
   ],
   "id": "4cd433b3d756364c",
   "outputs": [
    {
     "name": "stderr",
     "output_type": "stream",
     "text": [
      "C:\\Users\\bhimd\\AppData\\Local\\Temp\\ipykernel_5892\\1090897124.py:14: UserWarning: pandas only supports SQLAlchemy connectable (engine/connection) or database string URI or sqlite3 DBAPI2 connection. Other DBAPI2 objects are not tested. Please consider using SQLAlchemy.\n",
      "  df = pd.read_sql(query, conn).head(10)\n"
     ]
    }
   ],
   "execution_count": 15
  },
  {
   "metadata": {
    "ExecuteTime": {
     "end_time": "2025-10-01T15:11:42.073848Z",
     "start_time": "2025-10-01T15:11:41.667643Z"
    }
   },
   "cell_type": "code",
   "source": [
    "sns.barplot(x = \"SELLER_ID\", y = \"REVENUE\", data = df)\n",
    "plt.xticks(rotation = 90)\n",
    "plt.show()"
   ],
   "id": "707fb5551d2c0bab",
   "outputs": [
    {
     "data": {
      "text/plain": [
       "<Figure size 640x480 with 1 Axes>"
      ],
      "image/png": "[encoded data removed]"
     },
     "metadata": {},
     "output_type": "display_data"
    }
   ],
   "execution_count": 16
  },
  {
   "metadata": {},
   "cell_type": "markdown",
   "source": "### 11. Calculate the moving average of order values for each customer over their order history.",
   "id": "6a6ee0146ff5359d"
  },
  {
   "metadata": {},
   "cell_type": "markdown",
   "source": [
    "What does \"moving average of order values for each customer over their order history\" mean?\n",
    "\n",
    "Order Value → The payment value of an order.\n",
    "\n",
    "Customer’s Order History → A timeline of all orders placed by the customer.\n",
    "\n",
    "Moving Average → Instead of just taking the average of all orders, we take the average of the most recent N orders (e.g., last 3 orders).\n",
    "\n",
    "This helps us understand how the customer’s spending pattern changes over time."
   ],
   "id": "860c488f758f11d4"
  },
  {
   "metadata": {
    "ExecuteTime": {
     "end_time": "2025-10-01T15:16:46.852211Z",
     "start_time": "2025-10-01T15:16:45.382905Z"
    }
   },
   "cell_type": "code",
   "source": [
    "query = \"\"\"SELECT\n",
    "    CUSTOMER_ID,\n",
    "    ORDER_PURCHASE_TIMESTAMP,\n",
    "    PAYMENT,\n",
    "    AVG(PAYMENT) OVER(\n",
    "        PARTITION BY CUSTOMER_ID\n",
    "        ORDER BY ORDER_PURCHASE_TIMESTAMP\n",
    "        ROWS BETWEEN 2 PRECEDING AND CURRENT ROW\n",
    "    ) AS MOV_AVG\n",
    "FROM (\n",
    "    SELECT\n",
    "        O.CUSTOMER_ID,\n",
    "        O.ORDER_PURCHASE_TIMESTAMP,\n",
    "        P.PAYMENT_VALUE AS PAYMENT\n",
    "    FROM PAYMENTS P\n",
    "    JOIN ORDERS O\n",
    "        ON P.ORDER_ID = O.ORDER_ID\n",
    ") A\"\"\"\n",
    "pd.read_sql(query, conn).head(10)"
   ],
   "id": "adbe0151261d646f",
   "outputs": [
    {
     "name": "stderr",
     "output_type": "stream",
     "text": [
      "C:\\Users\\bhimd\\AppData\\Local\\Temp\\ipykernel_5892\\4168053712.py:19: UserWarning: pandas only supports SQLAlchemy connectable (engine/connection) or database string URI or sqlite3 DBAPI2 connection. Other DBAPI2 objects are not tested. Please consider using SQLAlchemy.\n",
      "  pd.read_sql(query, conn).head(10)\n"
     ]
    },
    {
     "data": {
      "text/plain": [
       "                        CUSTOMER_ID ORDER_PURCHASE_TIMESTAMP  PAYMENT  MOV_AVG\n",
       "0  00012a2ce6f8dcda20d059ce98491703      2017-11-14 16:08:26   114.74   114.74\n",
       "1  000161a058600d5901f007fab4c27140      2017-07-16 09:40:32    67.41    67.41\n",
       "2  0001fd6190edaaf884bcaf3d49edf079      2017-02-28 11:06:43   195.42   195.42\n",
       "3  0002414f95344307404f0ace7a26f1d5      2017-08-16 13:09:20   179.35   179.35\n",
       "4  000379cdec625522490c315e70c7a9fb      2018-04-02 13:42:17   107.01   107.01\n",
       "5  0004164d20a9e969af783496f3408652      2017-04-12 08:35:12    71.80    71.80\n",
       "6  000419c5494106c306a97b5635748086      2018-03-02 17:47:40    49.40    49.40\n",
       "7  00046a560d407e99b969756e0b10f282      2017-12-18 11:08:30   166.59   166.59\n",
       "8  00050bf6e01e69d5c0fd612f1bcfb69c      2017-09-17 16:04:44    85.23    85.23\n",
       "9  000598caf2ef4117407665ac33275130      2018-08-11 12:14:35  1255.71  1255.71"
      ],
      "text/html": [
       "<div>\n",
       "<style scoped>\n",
       "    .dataframe tbody tr th:only-of-type {\n",
       "        vertical-align: middle;\n",
       "    }\n",
       "\n",
       "    .dataframe tbody tr th {\n",
       "        vertical-align: top;\n",
       "    }\n",
       "\n",
       "    .dataframe thead th {\n",
       "        text-align: right;\n",
       "    }\n",
       "</style>\n",
       "<table border=\"1\" class=\"dataframe\">\n",
       "  <thead>\n",
       "    <tr style=\"text-align: right;\">\n",
       "      <th></th>\n",
       "      <th>CUSTOMER_ID</th>\n",
       "      <th>ORDER_PURCHASE_TIMESTAMP</th>\n",
       "      <th>PAYMENT</th>\n",
       "      <th>MOV_AVG</th>\n",
       "    </tr>\n",
       "  </thead>\n",
       "  <tbody>\n",
       "    <tr>\n",
       "      <th>0</th>\n",
       "      <td>00012a2ce6f8dcda20d059ce98491703</td>\n",
       "      <td>2017-11-14 16:08:26</td>\n",
       "      <td>114.74</td>\n",
       "      <td>114.74</td>\n",
       "    </tr>\n",
       "    <tr>\n",
       "      <th>1</th>\n",
       "      <td>000161a058600d5901f007fab4c27140</td>\n",
       "      <td>2017-07-16 09:40:32</td>\n",
       "      <td>67.41</td>\n",
       "      <td>67.41</td>\n",
       "    </tr>\n",
       "    <tr>\n",
       "      <th>2</th>\n",
       "      <td>0001fd6190edaaf884bcaf3d49edf079</td>\n",
       "      <td>2017-02-28 11:06:43</td>\n",
       "      <td>195.42</td>\n",
       "      <td>195.42</td>\n",
       "    </tr>\n",
       "    <tr>\n",
       "      <th>3</th>\n",
       "      <td>0002414f95344307404f0ace7a26f1d5</td>\n",
       "      <td>2017-08-16 13:09:20</td>\n",
       "      <td>179.35</td>\n",
       "      <td>179.35</td>\n",
       "    </tr>\n",
       "    <tr>\n",
       "      <th>4</th>\n",
       "      <td>000379cdec625522490c315e70c7a9fb</td>\n",
       "      <td>2018-04-02 13:42:17</td>\n",
       "      <td>107.01</td>\n",
       "      <td>107.01</td>\n",
       "    </tr>\n",
       "    <tr>\n",
       "      <th>5</th>\n",
       "      <td>0004164d20a9e969af783496f3408652</td>\n",
       "      <td>2017-04-12 08:35:12</td>\n",
       "      <td>71.80</td>\n",
       "      <td>71.80</td>\n",
       "    </tr>\n",
       "    <tr>\n",
       "      <th>6</th>\n",
       "      <td>000419c5494106c306a97b5635748086</td>\n",
       "      <td>2018-03-02 17:47:40</td>\n",
       "      <td>49.40</td>\n",
       "      <td>49.40</td>\n",
       "    </tr>\n",
       "    <tr>\n",
       "      <th>7</th>\n",
       "      <td>00046a560d407e99b969756e0b10f282</td>\n",
       "      <td>2017-12-18 11:08:30</td>\n",
       "      <td>166.59</td>\n",
       "      <td>166.59</td>\n",
       "    </tr>\n",
       "    <tr>\n",
       "      <th>8</th>\n",
       "      <td>00050bf6e01e69d5c0fd612f1bcfb69c</td>\n",
       "      <td>2017-09-17 16:04:44</td>\n",
       "      <td>85.23</td>\n",
       "      <td>85.23</td>\n",
       "    </tr>\n",
       "    <tr>\n",
       "      <th>9</th>\n",
       "      <td>000598caf2ef4117407665ac33275130</td>\n",
       "      <td>2018-08-11 12:14:35</td>\n",
       "      <td>1255.71</td>\n",
       "      <td>1255.71</td>\n",
       "    </tr>\n",
       "  </tbody>\n",
       "</table>\n",
       "</div>"
      ]
     },
     "execution_count": 19,
     "metadata": {},
     "output_type": "execute_result"
    }
   ],
   "execution_count": 19
  },
  {
   "metadata": {},
   "cell_type": "markdown",
   "source": [
    "### 12. Calculate the cumulative sales per month for each year.\n",
    "> Cumulative sales per month for each year. Adding All sum of payment by now."
   ],
   "id": "2f02c94e0e57e413"
  },
  {
   "metadata": {
    "ExecuteTime": {
     "end_time": "2025-10-04T09:42:56.007790Z",
     "start_time": "2025-10-04T09:42:55.659019Z"
    }
   },
   "cell_type": "code",
   "source": [
    "query = \"\"\"\n",
    "select years, months , payment, sum(payment)\n",
    "over(order by years, months) cumulative_sales from (SELECT\n",
    "    EXTRACT(YEAR FROM orders.order_purchase_timestamp) AS years,\n",
    "    EXTRACT(MONTH FROM orders.order_purchase_timestamp) AS months,\n",
    "    ROUND(SUM(payments.payment_value), 2) AS payment\n",
    "FROM orders\n",
    "JOIN payments\n",
    "    ON orders.order_id = payments.order_id\n",
    "GROUP BY\n",
    "    EXTRACT(YEAR FROM orders.order_purchase_timestamp),\n",
    "    EXTRACT(MONTH FROM orders.order_purchase_timestamp)\n",
    "ORDER BY\n",
    "    years, months)\"\"\"\n",
    "pd.read_sql(query, conn)"
   ],
   "id": "c214b106f073929c",
   "outputs": [
    {
     "name": "stderr",
     "output_type": "stream",
     "text": [
      "C:\\Users\\bhimd\\AppData\\Local\\Temp\\ipykernel_10184\\1852612035.py:15: UserWarning: pandas only supports SQLAlchemy connectable (engine/connection) or database string URI or sqlite3 DBAPI2 connection. Other DBAPI2 objects are not tested. Please consider using SQLAlchemy.\n",
      "  pd.read_sql(query, conn)\n"
     ]
    },
    {
     "data": {
      "text/plain": [
       "    YEARS  MONTHS     PAYMENT  CUMULATIVE_SALES\n",
       "0    2016       9      252.24            252.24\n",
       "1    2016      10    59090.48          59342.72\n",
       "2    2016      12       19.62          59362.34\n",
       "3    2017       1   138488.04         197850.38\n",
       "4    2017       2   291908.01         489758.39\n",
       "5    2017       3   449863.60         939621.99\n",
       "6    2017       4   417788.03        1357410.02\n",
       "7    2017       5   592918.82        1950328.84\n",
       "8    2017       6   511276.38        2461605.22\n",
       "9    2017       7   592382.92        3053988.14\n",
       "10   2017       8   674396.32        3728384.46\n",
       "11   2017       9   727762.45        4456146.91\n",
       "12   2017      10   779677.88        5235824.79\n",
       "13   2017      11  1194882.80        6430707.59\n",
       "14   2017      12   878401.48        7309109.07\n",
       "15   2018       1  1115004.18        8424113.25\n",
       "16   2018       2   992463.34        9416576.59\n",
       "17   2018       3  1159652.12       10576228.71\n",
       "18   2018       4  1160785.48       11737014.19\n",
       "19   2018       5  1153982.15       12890996.34\n",
       "20   2018       6  1023880.50       13914876.84\n",
       "21   2018       7  1066540.75       14981417.59\n",
       "22   2018       8  1022425.32       16003842.91\n",
       "23   2018       9     4439.54       16008282.45\n",
       "24   2018      10      589.67       16008872.12"
      ],
      "text/html": [
       "<div>\n",
       "<style scoped>\n",
       "    .dataframe tbody tr th:only-of-type {\n",
       "        vertical-align: middle;\n",
       "    }\n",
       "\n",
       "    .dataframe tbody tr th {\n",
       "        vertical-align: top;\n",
       "    }\n",
       "\n",
       "    .dataframe thead th {\n",
       "        text-align: right;\n",
       "    }\n",
       "</style>\n",
       "<table border=\"1\" class=\"dataframe\">\n",
       "  <thead>\n",
       "    <tr style=\"text-align: right;\">\n",
       "      <th></th>\n",
       "      <th>YEARS</th>\n",
       "      <th>MONTHS</th>\n",
       "      <th>PAYMENT</th>\n",
       "      <th>CUMULATIVE_SALES</th>\n",
       "    </tr>\n",
       "  </thead>\n",
       "  <tbody>\n",
       "    <tr>\n",
       "      <th>0</th>\n",
       "      <td>2016</td>\n",
       "      <td>9</td>\n",
       "      <td>252.24</td>\n",
       "      <td>252.24</td>\n",
       "    </tr>\n",
       "    <tr>\n",
       "      <th>1</th>\n",
       "      <td>2016</td>\n",
       "      <td>10</td>\n",
       "      <td>59090.48</td>\n",
       "      <td>59342.72</td>\n",
       "    </tr>\n",
       "    <tr>\n",
       "      <th>2</th>\n",
       "      <td>2016</td>\n",
       "      <td>12</td>\n",
       "      <td>19.62</td>\n",
       "      <td>59362.34</td>\n",
       "    </tr>\n",
       "    <tr>\n",
       "      <th>3</th>\n",
       "      <td>2017</td>\n",
       "      <td>1</td>\n",
       "      <td>138488.04</td>\n",
       "      <td>197850.38</td>\n",
       "    </tr>\n",
       "    <tr>\n",
       "      <th>4</th>\n",
       "      <td>2017</td>\n",
       "      <td>2</td>\n",
       "      <td>291908.01</td>\n",
       "      <td>489758.39</td>\n",
       "    </tr>\n",
       "    <tr>\n",
       "      <th>5</th>\n",
       "      <td>2017</td>\n",
       "      <td>3</td>\n",
       "      <td>449863.60</td>\n",
       "      <td>939621.99</td>\n",
       "    </tr>\n",
       "    <tr>\n",
       "      <th>6</th>\n",
       "      <td>2017</td>\n",
       "      <td>4</td>\n",
       "      <td>417788.03</td>\n",
       "      <td>1357410.02</td>\n",
       "    </tr>\n",
       "    <tr>\n",
       "      <th>7</th>\n",
       "      <td>2017</td>\n",
       "      <td>5</td>\n",
       "      <td>592918.82</td>\n",
       "      <td>1950328.84</td>\n",
       "    </tr>\n",
       "    <tr>\n",
       "      <th>8</th>\n",
       "      <td>2017</td>\n",
       "      <td>6</td>\n",
       "      <td>511276.38</td>\n",
       "      <td>2461605.22</td>\n",
       "    </tr>\n",
       "    <tr>\n",
       "      <th>9</th>\n",
       "      <td>2017</td>\n",
       "      <td>7</td>\n",
       "      <td>592382.92</td>\n",
       "      <td>3053988.14</td>\n",
       "    </tr>\n",
       "    <tr>\n",
       "      <th>10</th>\n",
       "      <td>2017</td>\n",
       "      <td>8</td>\n",
       "      <td>674396.32</td>\n",
       "      <td>3728384.46</td>\n",
       "    </tr>\n",
       "    <tr>\n",
       "      <th>11</th>\n",
       "      <td>2017</td>\n",
       "      <td>9</td>\n",
       "      <td>727762.45</td>\n",
       "      <td>4456146.91</td>\n",
       "    </tr>\n",
       "    <tr>\n",
       "      <th>12</th>\n",
       "      <td>2017</td>\n",
       "      <td>10</td>\n",
       "      <td>779677.88</td>\n",
       "      <td>5235824.79</td>\n",
       "    </tr>\n",
       "    <tr>\n",
       "      <th>13</th>\n",
       "      <td>2017</td>\n",
       "      <td>11</td>\n",
       "      <td>1194882.80</td>\n",
       "      <td>6430707.59</td>\n",
       "    </tr>\n",
       "    <tr>\n",
       "      <th>14</th>\n",
       "      <td>2017</td>\n",
       "      <td>12</td>\n",
       "      <td>878401.48</td>\n",
       "      <td>7309109.07</td>\n",
       "    </tr>\n",
       "    <tr>\n",
       "      <th>15</th>\n",
       "      <td>2018</td>\n",
       "      <td>1</td>\n",
       "      <td>1115004.18</td>\n",
       "      <td>8424113.25</td>\n",
       "    </tr>\n",
       "    <tr>\n",
       "      <th>16</th>\n",
       "      <td>2018</td>\n",
       "      <td>2</td>\n",
       "      <td>992463.34</td>\n",
       "      <td>9416576.59</td>\n",
       "    </tr>\n",
       "    <tr>\n",
       "      <th>17</th>\n",
       "      <td>2018</td>\n",
       "      <td>3</td>\n",
       "      <td>1159652.12</td>\n",
       "      <td>10576228.71</td>\n",
       "    </tr>\n",
       "    <tr>\n",
       "      <th>18</th>\n",
       "      <td>2018</td>\n",
       "      <td>4</td>\n",
       "      <td>1160785.48</td>\n",
       "      <td>11737014.19</td>\n",
       "    </tr>\n",
       "    <tr>\n",
       "      <th>19</th>\n",
       "      <td>2018</td>\n",
       "      <td>5</td>\n",
       "      <td>1153982.15</td>\n",
       "      <td>12890996.34</td>\n",
       "    </tr>\n",
       "    <tr>\n",
       "      <th>20</th>\n",
       "      <td>2018</td>\n",
       "      <td>6</td>\n",
       "      <td>1023880.50</td>\n",
       "      <td>13914876.84</td>\n",
       "    </tr>\n",
       "    <tr>\n",
       "      <th>21</th>\n",
       "      <td>2018</td>\n",
       "      <td>7</td>\n",
       "      <td>1066540.75</td>\n",
       "      <td>14981417.59</td>\n",
       "    </tr>\n",
       "    <tr>\n",
       "      <th>22</th>\n",
       "      <td>2018</td>\n",
       "      <td>8</td>\n",
       "      <td>1022425.32</td>\n",
       "      <td>16003842.91</td>\n",
       "    </tr>\n",
       "    <tr>\n",
       "      <th>23</th>\n",
       "      <td>2018</td>\n",
       "      <td>9</td>\n",
       "      <td>4439.54</td>\n",
       "      <td>16008282.45</td>\n",
       "    </tr>\n",
       "    <tr>\n",
       "      <th>24</th>\n",
       "      <td>2018</td>\n",
       "      <td>10</td>\n",
       "      <td>589.67</td>\n",
       "      <td>16008872.12</td>\n",
       "    </tr>\n",
       "  </tbody>\n",
       "</table>\n",
       "</div>"
      ]
     },
     "execution_count": 2,
     "metadata": {},
     "output_type": "execute_result"
    }
   ],
   "execution_count": 2
  },
  {
   "metadata": {},
   "cell_type": "markdown",
   "source": "### 13. Calculate the year-over-year growth rate of total sales.",
   "id": "ded57e7df93d91eb"
  },
  {
   "metadata": {
    "ExecuteTime": {
     "end_time": "2025-10-04T10:53:24.425899Z",
     "start_time": "2025-10-04T10:53:24.196132Z"
    }
   },
   "cell_type": "code",
   "source": [
    "query =\"\"\"SELECT Years1,Sale, Round((Sale-lag(Sale,1)over(order by Years1))/lag(Sale,1) over(order by Years1)*100,2)  growth_rate from (Select EXTRACT(YEAR FROM ORDER_PURCHASE_TIMESTAMP) Years1, sum(PAYMENT_VALUE) Sale FROM orders o\n",
    "INNER JOIN payments p ON o.Order_id=p.Order_id\n",
    "GROUP BY EXTRACT(YEAR FROM ORDER_PURCHASE_TIMESTAMP)\n",
    "Order by Years1)\"\"\"\n",
    "pd.read_sql(query, conn)"
   ],
   "id": "7ef87061de979828",
   "outputs": [
    {
     "name": "stderr",
     "output_type": "stream",
     "text": [
      "C:\\Users\\bhimd\\AppData\\Local\\Temp\\ipykernel_10184\\4192870158.py:5: UserWarning: pandas only supports SQLAlchemy connectable (engine/connection) or database string URI or sqlite3 DBAPI2 connection. Other DBAPI2 objects are not tested. Please consider using SQLAlchemy.\n",
      "  pd.read_sql(query, conn)\n"
     ]
    },
    {
     "data": {
      "text/plain": [
       "   YEARS1        SALE  GROWTH_RATE\n",
       "0    2016    59362.34          NaN\n",
       "1    2017  7249746.73      12112.7\n",
       "2    2018  8699763.05         20.0"
      ],
      "text/html": [
       "<div>\n",
       "<style scoped>\n",
       "    .dataframe tbody tr th:only-of-type {\n",
       "        vertical-align: middle;\n",
       "    }\n",
       "\n",
       "    .dataframe tbody tr th {\n",
       "        vertical-align: top;\n",
       "    }\n",
       "\n",
       "    .dataframe thead th {\n",
       "        text-align: right;\n",
       "    }\n",
       "</style>\n",
       "<table border=\"1\" class=\"dataframe\">\n",
       "  <thead>\n",
       "    <tr style=\"text-align: right;\">\n",
       "      <th></th>\n",
       "      <th>YEARS1</th>\n",
       "      <th>SALE</th>\n",
       "      <th>GROWTH_RATE</th>\n",
       "    </tr>\n",
       "  </thead>\n",
       "  <tbody>\n",
       "    <tr>\n",
       "      <th>0</th>\n",
       "      <td>2016</td>\n",
       "      <td>59362.34</td>\n",
       "      <td>NaN</td>\n",
       "    </tr>\n",
       "    <tr>\n",
       "      <th>1</th>\n",
       "      <td>2017</td>\n",
       "      <td>7249746.73</td>\n",
       "      <td>12112.7</td>\n",
       "    </tr>\n",
       "    <tr>\n",
       "      <th>2</th>\n",
       "      <td>2018</td>\n",
       "      <td>8699763.05</td>\n",
       "      <td>20.0</td>\n",
       "    </tr>\n",
       "  </tbody>\n",
       "</table>\n",
       "</div>"
      ]
     },
     "execution_count": 6,
     "metadata": {},
     "output_type": "execute_result"
    }
   ],
   "execution_count": 6
  },
  {
   "metadata": {},
   "cell_type": "markdown",
   "source": "### 14. Calculate the retention rate of customers, defined as the percentage of customers who make another purchase within 6 months of their first purchase.",
   "id": "90b23430222af49e"
  },
  {
   "metadata": {},
   "cell_type": "markdown",
   "source": [
    "Step 1: what we mean by “retention”\n",
    "\n",
    "Retention rate =\n",
    "\n",
    "{num of customers who made another purchase within 6 months of first purchase}/{total num of customers} *times 100"
   ],
   "id": "a60155274a0bca0f"
  },
  {
   "metadata": {
    "ExecuteTime": {
     "end_time": "2025-10-04T11:49:53.330449Z",
     "start_time": "2025-10-04T11:49:52.299474Z"
    }
   },
   "cell_type": "code",
   "source": [
    "query =\"\"\"\n",
    "WITH first_purchase AS (\n",
    "    SELECT\n",
    "        customer_id,\n",
    "        MIN(order_purchase_timestamp) AS first_purchase_date\n",
    "    FROM orders\n",
    "    GROUP BY customer_id\n",
    "),\n",
    "retained_customers AS (\n",
    "    SELECT DISTINCT o.customer_id\n",
    "    FROM orders o\n",
    "    JOIN first_purchase f\n",
    "        ON o.customer_id = f.customer_id\n",
    "    WHERE o.order_purchase_timestamp > f.first_purchase_date\n",
    "      AND o.order_purchase_timestamp <= ADD_MONTHS(f.first_purchase_date, 6)\n",
    ")\n",
    "SELECT\n",
    "    ROUND(\n",
    "        (COUNT(DISTINCT r.customer_id) * 100.0) / COUNT(DISTINCT f.customer_id),\n",
    "        2\n",
    "    ) AS retention_rate_percent\n",
    "FROM first_purchase f\n",
    "LEFT JOIN retained_customers r\n",
    "    ON f.customer_id = r.customer_id\n",
    "    \"\"\"\n",
    "pd.read_sql(query, conn)"
   ],
   "id": "101f2934c22a893e",
   "outputs": [
    {
     "name": "stderr",
     "output_type": "stream",
     "text": [
      "C:\\Users\\bhimd\\AppData\\Local\\Temp\\ipykernel_10184\\2858476278.py:26: UserWarning: pandas only supports SQLAlchemy connectable (engine/connection) or database string URI or sqlite3 DBAPI2 connection. Other DBAPI2 objects are not tested. Please consider using SQLAlchemy.\n",
      "  pd.read_sql(query, conn)\n"
     ]
    },
    {
     "data": {
      "text/plain": [
       "   RETENTION_RATE_PERCENT\n",
       "0                       0"
      ],
      "text/html": [
       "<div>\n",
       "<style scoped>\n",
       "    .dataframe tbody tr th:only-of-type {\n",
       "        vertical-align: middle;\n",
       "    }\n",
       "\n",
       "    .dataframe tbody tr th {\n",
       "        vertical-align: top;\n",
       "    }\n",
       "\n",
       "    .dataframe thead th {\n",
       "        text-align: right;\n",
       "    }\n",
       "</style>\n",
       "<table border=\"1\" class=\"dataframe\">\n",
       "  <thead>\n",
       "    <tr style=\"text-align: right;\">\n",
       "      <th></th>\n",
       "      <th>RETENTION_RATE_PERCENT</th>\n",
       "    </tr>\n",
       "  </thead>\n",
       "  <tbody>\n",
       "    <tr>\n",
       "      <th>0</th>\n",
       "      <td>0</td>\n",
       "    </tr>\n",
       "  </tbody>\n",
       "</table>\n",
       "</div>"
      ]
     },
     "execution_count": 8,
     "metadata": {},
     "output_type": "execute_result"
    }
   ],
   "execution_count": 8
  },
  {
   "metadata": {},
   "cell_type": "markdown",
   "source": "### 15. Identify the top 3 customers who spent the most money in each year.",
   "id": "9dc97b59bc9cafef"
  },
  {
   "metadata": {
    "ExecuteTime": {
     "end_time": "2025-10-04T12:22:37.190394Z",
     "start_time": "2025-10-04T12:22:36.007815Z"
    }
   },
   "cell_type": "code",
   "source": [
    "query = \"\"\"\n",
    "Select * from\n",
    "(select o.CUSTOMER_ID, Extract (Year from ORDER_PURCHASE_TIMESTAMP) Years, Sum(PAYMENT_VALUE),  dense_rank() Over(Partition By Extract (Year from ORDER_PURCHASE_TIMESTAMP) Order By Sum(PAYMENT_VALUE) Desc) DRank\n",
    "from Orders o Inner Join PAYMENTS P ON o.ORDER_ID=p.ORDER_ID\n",
    "Group By o.CUSTOMER_ID, Extract (Year from ORDER_PURCHASE_TIMESTAMP)Order By Years)\n",
    "where DRank<4\"\"\"\n",
    "df  = pd.read_sql(query, conn)\n",
    "df"
   ],
   "id": "d4e2887fd7253a2d",
   "outputs": [
    {
     "name": "stderr",
     "output_type": "stream",
     "text": [
      "C:\\Users\\bhimd\\AppData\\Local\\Temp\\ipykernel_10184\\704869224.py:7: UserWarning: pandas only supports SQLAlchemy connectable (engine/connection) or database string URI or sqlite3 DBAPI2 connection. Other DBAPI2 objects are not tested. Please consider using SQLAlchemy.\n",
      "  df  = pd.read_sql(query, conn)\n"
     ]
    },
    {
     "data": {
      "text/plain": [
       "                        CUSTOMER_ID  YEARS  SUM(PAYMENT_VALUE)  DRANK\n",
       "0  a9dc96b027d1252bbac0a9b72d837fc6   2016             1423.55      1\n",
       "1  1d34ed25963d5aae4cf3d7f3a4cda173   2016             1400.74      2\n",
       "2  4a06381959b6670756de02e07b83815f   2016             1227.78      3\n",
       "3  1617b1357756262bfa56ab541c47bc16   2017            13664.08      1\n",
       "4  c6e2731c5b391845f6800c97401a43a9   2017             6929.31      2\n",
       "5  3fd6777bbce08a352fddd04e4a7cc8f6   2017             6726.66      3\n",
       "6  ec5b2ba62e574342386871631fafd3fc   2018             7274.88      1\n",
       "7  f48d464a0baaea338cb25f816991ab1f   2018             6922.21      2\n",
       "8  e0a2412720e9ea4f26c1ac985f6a7358   2018             4809.44      3"
      ],
      "text/html": [
       "<div>\n",
       "<style scoped>\n",
       "    .dataframe tbody tr th:only-of-type {\n",
       "        vertical-align: middle;\n",
       "    }\n",
       "\n",
       "    .dataframe tbody tr th {\n",
       "        vertical-align: top;\n",
       "    }\n",
       "\n",
       "    .dataframe thead th {\n",
       "        text-align: right;\n",
       "    }\n",
       "</style>\n",
       "<table border=\"1\" class=\"dataframe\">\n",
       "  <thead>\n",
       "    <tr style=\"text-align: right;\">\n",
       "      <th></th>\n",
       "      <th>CUSTOMER_ID</th>\n",
       "      <th>YEARS</th>\n",
       "      <th>SUM(PAYMENT_VALUE)</th>\n",
       "      <th>DRANK</th>\n",
       "    </tr>\n",
       "  </thead>\n",
       "  <tbody>\n",
       "    <tr>\n",
       "      <th>0</th>\n",
       "      <td>a9dc96b027d1252bbac0a9b72d837fc6</td>\n",
       "      <td>2016</td>\n",
       "      <td>1423.55</td>\n",
       "      <td>1</td>\n",
       "    </tr>\n",
       "    <tr>\n",
       "      <th>1</th>\n",
       "      <td>1d34ed25963d5aae4cf3d7f3a4cda173</td>\n",
       "      <td>2016</td>\n",
       "      <td>1400.74</td>\n",
       "      <td>2</td>\n",
       "    </tr>\n",
       "    <tr>\n",
       "      <th>2</th>\n",
       "      <td>4a06381959b6670756de02e07b83815f</td>\n",
       "      <td>2016</td>\n",
       "      <td>1227.78</td>\n",
       "      <td>3</td>\n",
       "    </tr>\n",
       "    <tr>\n",
       "      <th>3</th>\n",
       "      <td>1617b1357756262bfa56ab541c47bc16</td>\n",
       "      <td>2017</td>\n",
       "      <td>13664.08</td>\n",
       "      <td>1</td>\n",
       "    </tr>\n",
       "    <tr>\n",
       "      <th>4</th>\n",
       "      <td>c6e2731c5b391845f6800c97401a43a9</td>\n",
       "      <td>2017</td>\n",
       "      <td>6929.31</td>\n",
       "      <td>2</td>\n",
       "    </tr>\n",
       "    <tr>\n",
       "      <th>5</th>\n",
       "      <td>3fd6777bbce08a352fddd04e4a7cc8f6</td>\n",
       "      <td>2017</td>\n",
       "      <td>6726.66</td>\n",
       "      <td>3</td>\n",
       "    </tr>\n",
       "    <tr>\n",
       "      <th>6</th>\n",
       "      <td>ec5b2ba62e574342386871631fafd3fc</td>\n",
       "      <td>2018</td>\n",
       "      <td>7274.88</td>\n",
       "      <td>1</td>\n",
       "    </tr>\n",
       "    <tr>\n",
       "      <th>7</th>\n",
       "      <td>f48d464a0baaea338cb25f816991ab1f</td>\n",
       "      <td>2018</td>\n",
       "      <td>6922.21</td>\n",
       "      <td>2</td>\n",
       "    </tr>\n",
       "    <tr>\n",
       "      <th>8</th>\n",
       "      <td>e0a2412720e9ea4f26c1ac985f6a7358</td>\n",
       "      <td>2018</td>\n",
       "      <td>4809.44</td>\n",
       "      <td>3</td>\n",
       "    </tr>\n",
       "  </tbody>\n",
       "</table>\n",
       "</div>"
      ]
     },
     "execution_count": 11,
     "metadata": {},
     "output_type": "execute_result"
    }
   ],
   "execution_count": 11
  },
  {
   "metadata": {
    "ExecuteTime": {
     "end_time": "2025-10-04T12:25:07.605985Z",
     "start_time": "2025-10-04T12:25:03.696821Z"
    }
   },
   "cell_type": "code",
   "source": [
    "df.columns =[\"id\",\"years\",\"payment\",\"rank\"]\n",
    "sns.barplot(x = \"id\", y = \"payment\", data = df, hue = \"years\")\n",
    "plt.xticks(rotation = 90)\n",
    "plt.show()"
   ],
   "id": "363fdc623c29d29c",
   "outputs": [
    {
     "data": {
      "text/plain": [
       "<Figure size 640x480 with 1 Axes>"
      ],
      "image/png": "[encoded data removed]"
     },
     "metadata": {},
     "output_type": "display_data"
    }
   ],
   "execution_count": 12
  }
 ],
 "metadata": {
  "kernelspec": {
   "display_name": "Python 3",
   "language": "python",
   "name": "python3"
  },
  "language_info": {
   "codemirror_mode": {
    "name": "ipython",
    "version": 3
   },
   "file_extension": ".py",
   "mimetype": "text/x-python",
   "name": "python",
   "nbconvert_exporter": "python",
   "pygments_lexer": "ipython3",
   "version": "3.12.0"
  }
 },
 "nbformat": 4,
 "nbformat_minor": 5
}
